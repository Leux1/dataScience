{
 "cells": [
  {
   "cell_type": "markdown",
   "id": "054d9add-94bb-4437-bd6c-c81acb66370d",
   "metadata": {},
   "source": [
    "## Data Science Tools and Ecosystem"
   ]
  },
  {
   "cell_type": "markdown",
   "id": "ba45858a-4dba-4286-be6b-00148469a249",
   "metadata": {},
   "source": [
    "#### In this notebook, Data Science Tools and Ecosystem are summarized"
   ]
  },
  {
   "cell_type": "markdown",
   "id": "c6fef933-cb29-4005-b79c-210d72b202b0",
   "metadata": {},
   "source": [
    "**Objectives**\n",
    "- List popular Languages for Data Science\n",
    "- List of Data Science Libraries\n",
    "- Data Science Tools\n",
    "- Arithmetic Expressions\n",
    "\n",
    "## Author\n",
    "Dimitrescu Leonard"
   ]
  },
  {
   "cell_type": "markdown",
   "id": "80f948d2-0366-410a-a458-46296291e045",
   "metadata": {},
   "source": [
    "##### Some of the popular languages that Data Scientists use are:\n",
    "\n",
    "1. Python\n",
    "2. Java\n",
    "3. R\n",
    "4. C++"
   ]
  },
  {
   "cell_type": "markdown",
   "id": "280dfeae-928e-412c-9905-92b1cc4c37ea",
   "metadata": {},
   "source": [
    "##### Some of the commonly used libraries used by Data Scientists include:\n",
    "\n",
    "1. ggplot\n",
    "2. matplotlib\n",
    "3. numPY\n",
    "4. pandas"
   ]
  },
  {
   "cell_type": "markdown",
   "id": "d3443a44-1452-4bc6-b7ea-5eeaf206b8ea",
   "metadata": {},
   "source": [
    "|Data Science Tools|\n",
    "|------------------|\n",
    "|Jupyter Notebook|\n",
    "|R Studio|\n",
    "|Apache Spark|"
   ]
  },
  {
   "cell_type": "markdown",
   "id": "ee1fc3cf-faca-45e8-83d9-6736e80a3406",
   "metadata": {},
   "source": [
    "### Below are a few examples of evaluating arithmetic expression in Python"
   ]
  },
  {
   "cell_type": "code",
   "execution_count": 5,
   "id": "2c0b32c7-778c-4681-9087-8dd1a7df2713",
   "metadata": {},
   "outputs": [
    {
     "data": {
      "text/plain": [
       "17"
      ]
     },
     "execution_count": 5,
     "metadata": {},
     "output_type": "execute_result"
    }
   ],
   "source": [
    "# This is a simple arithmetic expression to multiply then add integers\n",
    "(3*4)+5"
   ]
  },
  {
   "cell_type": "code",
   "execution_count": 6,
   "id": "90da03d8-2cc2-4719-98dc-c95663917465",
   "metadata": {},
   "outputs": [
    {
     "data": {
      "text/plain": [
       "3.3333333333333335"
      ]
     },
     "execution_count": 6,
     "metadata": {},
     "output_type": "execute_result"
    }
   ],
   "source": [
    "# This will convert 200 minutes to hours by diving by 60\n",
    "200/60"
   ]
  }
 ],
 "metadata": {
  "kernelspec": {
   "display_name": "Python 3 (ipykernel)",
   "language": "python",
   "name": "python3"
  },
  "language_info": {
   "codemirror_mode": {
    "name": "ipython",
    "version": 3
   },
   "file_extension": ".py",
   "mimetype": "text/x-python",
   "name": "python",
   "nbconvert_exporter": "python",
   "pygments_lexer": "ipython3",
   "version": "3.13.2"
  }
 },
 "nbformat": 4,
 "nbformat_minor": 5
}
